{
 "cells": [
  {
   "cell_type": "code",
   "execution_count": null,
   "metadata": {},
   "outputs": [],
   "source": [
    "import pandas as pd\n",
    "import seaborn as sns\n",
    "\n",
    "from keyname import keyname as kn\n",
    "from nbmetalog import nbmetalog as nbm\n"
   ]
  },
  {
   "cell_type": "code",
   "execution_count": null,
   "metadata": {},
   "outputs": [],
   "source": [
    "nbm.print_metadata()\n"
   ]
  },
  {
   "cell_type": "markdown",
   "metadata": {},
   "source": [
    "# Load Data, Calculate Additional Columns, Make Subset Dfs\n"
   ]
  },
  {
   "cell_type": "code",
   "execution_count": null,
   "metadata": {},
   "outputs": [],
   "source": [
    "df = pd.read_csv(\"https://osf.io/ftnva/download\")\n"
   ]
  },
  {
   "cell_type": "code",
   "execution_count": null,
   "metadata": {},
   "outputs": [],
   "source": [
    "df[\"Net Traits Gained\"] = df[\"Num Traits Gained\"] - df[\"Num Traits Lost\"]\n"
   ]
  },
  {
   "cell_type": "code",
   "execution_count": null,
   "metadata": {},
   "outputs": [],
   "source": [
    "df[\"Tasks\"] = df[\"run_uid\"].apply(\n",
    "    lambda x: kn.unpack(x)[\"tasks\"],\n",
    ")\n"
   ]
  },
  {
   "cell_type": "code",
   "execution_count": null,
   "metadata": {},
   "outputs": [],
   "source": [
    "df90 = df[df[\"epoch\"] == 90]\n"
   ]
  },
  {
   "cell_type": "code",
   "execution_count": null,
   "metadata": {},
   "outputs": [],
   "source": [
    "inviable_stint_uids = df[(df[\"Mutational Distance\"] == 0) & (df[\"Viable\"] == 0)][\n",
    "    \"stint_uid\"\n",
    "]\n",
    "print(len(inviable_stint_uids), len(df))\n",
    "df90v = df90[~df90[\"stint_uid\"].isin(inviable_stint_uids)]\n",
    "\n",
    "dfv = df[~df[\"stint_uid\"].isin(inviable_stint_uids)]\n"
   ]
  },
  {
   "cell_type": "code",
   "execution_count": null,
   "metadata": {},
   "outputs": [],
   "source": [
    "duds = df[\"Tasks\"].isin(\n",
    "    [\n",
    "        # these two task sets never took\n",
    "        \"log3ax-logic-3ax-log3ci-logic-3ci-log3ah-logic-3ah\",\n",
    "        \"log3aq-logic-3aq-log3bz-logic-3bz-log3by-logic-3by\",\n",
    "    ]\n",
    ")\n",
    "dfg = df[(~df[\"stint_uid\"].isin(inviable_stint_uids)) & (~duds)]\n"
   ]
  },
  {
   "cell_type": "code",
   "execution_count": null,
   "metadata": {},
   "outputs": [],
   "source": [
    "dfg100 = dfg[dfg[\"epoch\"] == 100]\n"
   ]
  },
  {
   "cell_type": "code",
   "execution_count": null,
   "metadata": {},
   "outputs": [],
   "source": [
    "df0 = df[df[\"epoch\"] == 0]\n"
   ]
  },
  {
   "cell_type": "code",
   "execution_count": null,
   "metadata": {},
   "outputs": [],
   "source": [
    "df0 = df[df[\"epoch\"] == 90]\n"
   ]
  },
  {
   "cell_type": "markdown",
   "metadata": {},
   "source": [
    "# Weird: Some Dominant Genotypes aren't Viable\n"
   ]
  },
  {
   "cell_type": "code",
   "execution_count": null,
   "metadata": {},
   "outputs": [],
   "source": [
    "df[df[\"stint_uid\"].isin(inviable_stint_uids)][\"Tasks\"].unique()\n"
   ]
  },
  {
   "cell_type": "code",
   "execution_count": null,
   "metadata": {},
   "outputs": [],
   "source": [
    "df[df[\"stint_uid\"].isin(inviable_stint_uids)][\"epoch\"].unique()\n"
   ]
  },
  {
   "cell_type": "code",
   "execution_count": null,
   "metadata": {},
   "outputs": [],
   "source": [
    "df[df[\"stint_uid\"].isin(inviable_stint_uids)][\n",
    "    \"Reference Taxon Number of currently living organisms\"\n",
    "].unique()\n"
   ]
  },
  {
   "cell_type": "markdown",
   "metadata": {},
   "source": [
    "# Weird: Trait Boolean Value is Greater than One (see Trait 1)\n"
   ]
  },
  {
   "cell_type": "code",
   "execution_count": null,
   "metadata": {},
   "outputs": [],
   "source": [
    "dfg[dfg[\"Num Traits\"] > 20].to_dict()\n"
   ]
  },
  {
   "cell_type": "markdown",
   "metadata": {},
   "source": [
    "# Trait Gain/Loss vs. Mutational Distance\n"
   ]
  },
  {
   "cell_type": "code",
   "execution_count": null,
   "metadata": {},
   "outputs": [],
   "source": [
    "sns.barplot(\n",
    "    data=dfg100[dfg100[\"Mutational Distance\"] > 0],\n",
    "    x=\"treatment\",\n",
    "    y=\"Num Traits Lost\",\n",
    "    hue=\"Mutational Distance\",\n",
    ")\n"
   ]
  },
  {
   "cell_type": "code",
   "execution_count": null,
   "metadata": {},
   "outputs": [],
   "source": [
    "sns.barplot(\n",
    "    data=dfg100[dfg100[\"Mutational Distance\"] > 0],\n",
    "    x=\"treatment\",\n",
    "    y=\"Num Traits Gained\",\n",
    "    hue=\"Mutational Distance\",\n",
    ")\n"
   ]
  },
  {
   "cell_type": "code",
   "execution_count": null,
   "metadata": {},
   "outputs": [],
   "source": [
    "sns.barplot(\n",
    "    data=dfg100[dfg100[\"Mutational Distance\"] > 0],\n",
    "    x=\"treatment\",\n",
    "    y=\"Net Traits Gained\",\n",
    "    hue=\"Mutational Distance\",\n",
    ")\n"
   ]
  },
  {
   "cell_type": "code",
   "execution_count": null,
   "metadata": {},
   "outputs": [],
   "source": [
    "sns.barplot(data=dfg100, x=\"treatment\", y=\"Num Traits\", hue=\"Mutational Distance\")\n"
   ]
  },
  {
   "cell_type": "markdown",
   "metadata": {},
   "source": [
    "# Viability vs. Mutational Distance\n"
   ]
  },
  {
   "cell_type": "code",
   "execution_count": null,
   "metadata": {},
   "outputs": [],
   "source": [
    "sns.barplot(data=dfg100, x=\"treatment\", y=\"Viable\", hue=\"Mutational Distance\")\n"
   ]
  },
  {
   "cell_type": "code",
   "execution_count": null,
   "metadata": {},
   "outputs": [],
   "source": [
    "sns.barplot(data=df0, x=\"treatment\", y=\"Viable\", hue=\"Mutational Distance\")\n"
   ]
  },
  {
   "cell_type": "code",
   "execution_count": null,
   "metadata": {},
   "outputs": [],
   "source": [
    "sns.barplot(\n",
    "    data=dfg100,\n",
    "    x=\"treatment\",\n",
    "    y=\"Num Traits\",\n",
    "    hue=\"Mutational Distance\",\n",
    ")\n"
   ]
  },
  {
   "cell_type": "code",
   "execution_count": null,
   "metadata": {},
   "outputs": [],
   "source": [
    "sns.barplot(\n",
    "    data=df0[df0[\"Mutational Distance\"] > 0],\n",
    "    x=\"treatment\",\n",
    "    y=\"Viable\",\n",
    "    hue=\"Mutational Distance\",\n",
    ")\n"
   ]
  },
  {
   "cell_type": "code",
   "execution_count": null,
   "metadata": {},
   "outputs": [],
   "source": [
    "sns.lineplot(\n",
    "    data=df90v,\n",
    "    x=\"Mutational Distance\",\n",
    "    y=\"Viable\",\n",
    "    hue=\"treatment\",\n",
    ")\n",
    "sns.boxplot(\n",
    "    data=df90v,\n",
    "    x=\"Mutational Distance\",\n",
    "    y=\"Viable\",\n",
    "    hue=\"treatment\",\n",
    ")\n"
   ]
  },
  {
   "cell_type": "markdown",
   "metadata": {},
   "source": [
    "# Evolvability over Epochs\n"
   ]
  },
  {
   "cell_type": "code",
   "execution_count": null,
   "metadata": {},
   "outputs": [],
   "source": [
    "sns.lineplot(\n",
    "    data=dfg[dfg[\"Mutational Distance\"] == 1],\n",
    "    y=\"Viable\",\n",
    "    x=\"epoch\",\n",
    "    hue=\"treatment\",\n",
    ")\n"
   ]
  },
  {
   "cell_type": "code",
   "execution_count": null,
   "metadata": {},
   "outputs": [],
   "source": [
    "sns.lineplot(\n",
    "    data=dfg,\n",
    "    y=\"Num Traits Gained\",\n",
    "    x=\"epoch\",\n",
    "    hue=\"treatment\",\n",
    ")\n"
   ]
  },
  {
   "cell_type": "code",
   "execution_count": null,
   "metadata": {},
   "outputs": [],
   "source": [
    "sns.lineplot(\n",
    "    data=dfg,\n",
    "    y=\"Num Traits Lost\",\n",
    "    x=\"epoch\",\n",
    "    hue=\"treatment\",\n",
    ")\n"
   ]
  }
 ],
 "metadata": {
  "kernelspec": {
   "display_name": "Python 3",
   "language": "python",
   "name": "python3"
  },
  "language_info": {
   "codemirror_mode": {
    "name": "ipython",
    "version": 3
   },
   "file_extension": ".py",
   "mimetype": "text/x-python",
   "name": "python",
   "nbconvert_exporter": "python",
   "pygments_lexer": "ipython3"
  }
 },
 "nbformat": 4,
 "nbformat_minor": 5
}
