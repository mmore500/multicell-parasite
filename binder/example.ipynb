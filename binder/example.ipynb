{
 "cells": [
  {
   "cell_type": "code",
   "execution_count": null,
   "metadata": {},
   "outputs": [],
   "source": [
    "import numpy as np\n",
    "import pandas as pd\n"
   ]
  },
  {
   "cell_type": "markdown",
   "metadata": {},
   "source": [
    "# get data\n"
   ]
  },
  {
   "cell_type": "code",
   "execution_count": null,
   "metadata": {},
   "outputs": [],
   "source": [
    "host_tasks_df = pd.read_csv(\"https://osf.io/bd8h6/download\", sep=\" \", header=None).dropna(axis=1)\n",
    "parasite_tasks_df = pd.read_csv(\"https://osf.io/8y5vd/download\", sep=\" \", header=None).dropna(axis=1)\n"
   ]
  },
  {
   "cell_type": "code",
   "execution_count": null,
   "metadata": {},
   "outputs": [],
   "source": [
    "host_occupancy = host_tasks_df.to_numpy().flatten() != -1\n",
    "host_occupancy\n"
   ]
  },
  {
   "cell_type": "code",
   "execution_count": null,
   "metadata": {},
   "outputs": [],
   "source": [
    "parasite_occupancy = parasite_tasks_df.to_numpy().flatten() != -1\n",
    "parasite_occupancy\n"
   ]
  },
  {
   "cell_type": "code",
   "execution_count": null,
   "metadata": {},
   "outputs": [],
   "source": [
    "host_tasks = host_tasks_df.to_numpy().flatten()\n",
    "host_tasks[~host_occupancy] = 0\n",
    "host_tasks\n"
   ]
  },
  {
   "cell_type": "code",
   "execution_count": null,
   "metadata": {},
   "outputs": [],
   "source": [
    "parasite_tasks = parasite_tasks_df.to_numpy().flatten()\n",
    "parasite_tasks[~parasite_occupancy] = 0\n",
    "parasite_tasks\n"
   ]
  },
  {
   "cell_type": "code",
   "execution_count": null,
   "metadata": {},
   "outputs": [],
   "source": [
    "host_task_counts = np.array([\n",
    "    int(val).bit_count()\n",
    "    for val in host_tasks\n",
    "])\n",
    "host_task_counts\n"
   ]
  },
  {
   "cell_type": "code",
   "execution_count": null,
   "metadata": {},
   "outputs": [],
   "source": [
    "parasite_task_counts = np.array([\n",
    "    int(val).bit_count()\n",
    "    for val in parasite_tasks\n",
    "])\n",
    "parasite_task_counts\n"
   ]
  },
  {
   "cell_type": "code",
   "execution_count": null,
   "metadata": {},
   "outputs": [],
   "source": [
    "shared_tasks = host_tasks & parasite_tasks\n",
    "shared_tasks\n"
   ]
  },
  {
   "cell_type": "code",
   "execution_count": null,
   "metadata": {},
   "outputs": [],
   "source": [
    "shared_task_counts = np.array([\n",
    "    int(val).bit_count()\n",
    "    for val in shared_tasks\n",
    "])\n",
    "shared_task_counts\n"
   ]
  },
  {
   "cell_type": "code",
   "execution_count": null,
   "metadata": {},
   "outputs": [],
   "source": [
    "host_task_tally = {}\n",
    "for i in range(64):\n",
    "    num_with_task = (host_tasks & (1 >> i)).sum()\n",
    "    host_task_tally[i] = num_with_task\n",
    "\n",
    "str(host_task_tally)\n"
   ]
  },
  {
   "cell_type": "code",
   "execution_count": null,
   "metadata": {},
   "outputs": [],
   "source": [
    "parasite_task_tally = {}\n",
    "for i in range(64):\n",
    "    num_with_task = (parasite_tasks & (1 >> i)).sum()\n",
    "    parasite_task_tally[i] = num_with_task\n",
    "\n",
    "str(parasite_task_tally)\n"
   ]
  },
  {
   "cell_type": "markdown",
   "metadata": {},
   "source": [
    "# get task counts\n"
   ]
  },
  {
   "cell_type": "code",
   "execution_count": null,
   "metadata": {},
   "outputs": [],
   "source": [
    "import numpy as np\n",
    "import networkx as nx\n",
    "import matplotlib.pyplot as plt\n",
    "\n",
    "array1 = host_task_counts[:20]\n",
    "array2 = shared_task_counts[:20]\n",
    "array3 = parasite_task_counts[:20]\n",
    "\n",
    "n = len(array1)\n",
    "\n",
    "# Create a bipartite graph\n",
    "B = nx.Graph()\n",
    "left_nodes = [f'l{i}' for i in range(n)]\n",
    "right_nodes = [f'r{i}' for i in range(n)]\n",
    "\n",
    "B.add_nodes_from(left_nodes, bipartite=0)\n",
    "B.add_nodes_from(right_nodes, bipartite=1)\n",
    "\n",
    "for i in range(n):\n",
    "    B.add_edge(left_nodes[i], right_nodes[i], width=array2[i])\n",
    "\n",
    "# Create a dictionary to store the positions\n",
    "pos = dict()\n",
    "\n",
    "# Calculate the positions for the top nodes\n",
    "for i, node in enumerate(left_nodes):\n",
    "    pos[node] = (i, 1)\n",
    "\n",
    "# Calculate the positions for the bottom nodes\n",
    "for i, node in enumerate(right_nodes):\n",
    "    pos[node] = (i, 0)\n",
    "\n",
    "node_sizes_left = dict(zip(left_nodes, array1))\n",
    "node_sizes_right = dict(zip(right_nodes, array3))\n",
    "node_sizes = {**node_sizes_left, **node_sizes_right}\n",
    "edge_widths = nx.get_edge_attributes(B, 'width')\n",
    "\n",
    "print(\"graph prepared\")\n",
    "\n",
    "plt.figure(figsize=(8, 6))\n",
    "nx.draw_networkx_nodes(B, pos, node_size=[node_sizes[node] * 100 for node in B.nodes()])\n",
    "nx.draw_networkx_edges(B, pos, width=[edge_widths[edge] for edge in B.edges()])\n",
    "nx.draw_networkx_labels(B, pos, font_size=12)\n",
    "\n",
    "plt.axis('off')\n",
    "plt.tight_layout()\n",
    "plt.show()\n"
   ]
  },
  {
   "cell_type": "code",
   "execution_count": null,
   "metadata": {},
   "outputs": [],
   "source": [
    "def get_set_bit_indices(n):\n",
    "    indices = []\n",
    "    index = 0\n",
    "    while n:\n",
    "        if n & 1:\n",
    "            indices.append(index)\n",
    "        n >>= 1\n",
    "        index += 1\n",
    "    return indices\n"
   ]
  },
  {
   "cell_type": "code",
   "execution_count": null,
   "metadata": {},
   "outputs": [],
   "source": [
    "from collections import Counter\n",
    "import itertools as it\n",
    "\n",
    "from keyname import keyname as kn\n",
    "import matplotlib.pyplot as plt\n",
    "import numpy as np\n",
    "import networkx as nx\n",
    "\n",
    "n = 9  # num tasks\n",
    "\n",
    "# Create a bipartite graph\n",
    "B = nx.Graph()\n",
    "left_nodes = [f'host_task={i}' for i in range(n)]\n",
    "right_nodes = [f'parasite_task={i}' for i in range(n)]\n",
    "\n",
    "B.add_nodes_from(left_nodes, bipartite=0)\n",
    "B.add_nodes_from(right_nodes, bipartite=1)\n",
    "\n",
    "shared_task_pairs = Counter()\n",
    "for shared_task in shared_tasks:\n",
    "    set_indices = get_set_bit_indices(shared_task)\n",
    "    for index in set_indices:\n",
    "        shared_task_pairs[(index, index)] += 1\n",
    "    for pair in it.combinations(\n",
    "        set_indices, r=2\n",
    "    ):\n",
    "        shared_task_pairs[frozenset(pair)] += 1\n",
    "\n",
    "for (p1, p2), count in shared_task_pairs.items():\n",
    "    B.add_edge(\n",
    "        f\"host_task={p1}\",\n",
    "        f\"parasite_task={p2}\",\n",
    "        width=count\n",
    "    )\n",
    "\n",
    "# Create a dictionary to store the positions\n",
    "pos = dict()\n",
    "\n",
    "# Calculate the positions for the top nodes\n",
    "for i, node in enumerate(left_nodes):\n",
    "    pos[node] = (i, 1)\n",
    "\n",
    "# Calculate the positions for the bottom nodes\n",
    "for i, node in enumerate(right_nodes):\n",
    "    pos[node] = (i, 0)\n",
    "\n",
    "node_sizes_left = {\n",
    "    node : host_task_tally[\n",
    "        int(kn.unpack(node)[\"host_task\"])\n",
    "    ]\n",
    "    for node in left_nodes\n",
    "}\n",
    "node_sizes_right = {\n",
    "    node : parasite_task_tally[\n",
    "        int(kn.unpack(node)[\"parasite_task\"])\n",
    "    ]\n",
    "    for node in right_nodes\n",
    "}\n",
    "node_sizes = {**node_sizes_left, **node_sizes_right}\n",
    "edge_widths = nx.get_edge_attributes(B, 'width')\n",
    "\n",
    "print(\"graph prepared\")\n",
    "\n",
    "plt.figure(figsize=(8, 6))\n",
    "nx.draw_networkx_nodes(B, pos, node_size=[node_sizes[node] / 3 for node in B.nodes()])\n",
    "nx.draw_networkx_edges(B, pos, width=[edge_widths[edge] / 500 for edge in B.edges()])\n",
    "nx.draw_networkx_labels(\n",
    "    B,\n",
    "    pos,\n",
    "    {n : ''.join(char for char in n if char.isdigit()) for n in B},\n",
    "    font_size=12,\n",
    ")\n",
    "\n",
    "# Add a top label and a bottom label\n",
    "top_label = \"Host Tasks\"\n",
    "bottom_label = \"Parasite Tasks\"\n",
    "\n",
    "# Calculate the x-position for the labels (centered)\n",
    "label_x = (n - 1) / 2\n",
    "\n",
    "plt.text(label_x, 1.15, top_label, ha='center', fontsize=14, fontweight='bold')\n",
    "plt.text(label_x, -0.15, bottom_label, ha='center', fontsize=14, fontweight='bold')\n",
    "\n",
    "plt.axis('off')\n",
    "plt.tight_layout()\n",
    "plt.show()\n"
   ]
  }
 ],
 "metadata": {
  "kernelspec": {
   "display_name": "Python 3",
   "language": "python",
   "name": "python3"
  },
  "language_info": {
   "codemirror_mode": {
    "name": "ipython",
    "version": 3
   },
   "file_extension": ".py",
   "mimetype": "text/x-python",
   "name": "python",
   "nbconvert_exporter": "python",
   "pygments_lexer": "ipython3"
  }
 },
 "nbformat": 4,
 "nbformat_minor": 5
}
